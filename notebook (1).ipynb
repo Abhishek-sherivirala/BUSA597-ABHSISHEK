{
 "cells": [
  {
   "cell_type": "code",
   "metadata": {
    "tags": [],
    "cell_id": "e2eea777-e4a8-4c37-b238-0e252ce328dc",
    "deepnote_to_be_reexecuted": false,
    "source_hash": "a84e4123",
    "execution_start": 1662688189314,
    "execution_millis": 1259,
    "deepnote_cell_type": "code",
    "deepnote_cell_height": 166
   },
   "source": "# Start writing code here...\n\nimport pandas as pd\nimport numpy as np\nimport matplotlib.pyplot as plt\n",
   "execution_count": 1,
   "outputs": []
  },
  {
   "cell_type": "markdown",
   "source": "Q1",
   "metadata": {
    "formattedRanges": [],
    "is_collapsed": false,
    "cell_id": "79bb6c36af73472ca672e60b6b81c42d",
    "tags": [],
    "deepnote_cell_type": "text-cell-p"
   }
  },
  {
   "cell_type": "markdown",
   "source": "data set link : https://www.kaggle.com/datasets/arshid/iris-flower-dataset",
   "metadata": {
    "formattedRanges": [
     {
      "type": "link",
      "url": "https://www.kaggle.com/datasets/arshid/iris-flower-dataset",
      "fromCodePoint": 16,
      "toCodePoint": 74,
      "ranges": []
     }
    ],
    "is_collapsed": false,
    "cell_id": "37adf2c5bc4d41deb172068acdd4021c",
    "tags": [],
    "deepnote_cell_type": "text-cell-p"
   }
  },
  {
   "cell_type": "code",
   "metadata": {
    "cell_id": "07de7bc70b9246fb976b6f6e064df7ec",
    "tags": [],
    "deepnote_to_be_reexecuted": false,
    "source_hash": "52864135",
    "execution_start": 1662688190576,
    "execution_millis": 56,
    "deepnote_cell_type": "code",
    "deepnote_cell_height": 408
   },
   "source": "data = pd.read_csv(\"IRIS.csv\")\ndata.head()",
   "execution_count": 2,
   "outputs": [
    {
     "output_type": "execute_result",
     "execution_count": 2,
     "data": {
      "application/vnd.deepnote.dataframe.v3+json": {
       "column_count": 5,
       "row_count": 5,
       "columns": [
        {
         "name": "sepal_length",
         "dtype": "float64",
         "stats": {
          "unique_count": 5,
          "nan_count": 0,
          "min": "4.6",
          "max": "5.1",
          "histogram": [
           {
            "bin_start": 4.6,
            "bin_end": 4.6499999999999995,
            "count": 1
           },
           {
            "bin_start": 4.6499999999999995,
            "bin_end": 4.699999999999999,
            "count": 0
           },
           {
            "bin_start": 4.699999999999999,
            "bin_end": 4.75,
            "count": 1
           },
           {
            "bin_start": 4.75,
            "bin_end": 4.8,
            "count": 0
           },
           {
            "bin_start": 4.8,
            "bin_end": 4.85,
            "count": 0
           },
           {
            "bin_start": 4.85,
            "bin_end": 4.8999999999999995,
            "count": 0
           },
           {
            "bin_start": 4.8999999999999995,
            "bin_end": 4.949999999999999,
            "count": 1
           },
           {
            "bin_start": 4.949999999999999,
            "bin_end": 5,
            "count": 0
           },
           {
            "bin_start": 5,
            "bin_end": 5.05,
            "count": 1
           },
           {
            "bin_start": 5.05,
            "bin_end": 5.1,
            "count": 1
           }
          ]
         }
        },
        {
         "name": "sepal_width",
         "dtype": "float64",
         "stats": {
          "unique_count": 5,
          "nan_count": 0,
          "min": "3.0",
          "max": "3.6",
          "histogram": [
           {
            "bin_start": 3,
            "bin_end": 3.06,
            "count": 1
           },
           {
            "bin_start": 3.06,
            "bin_end": 3.12,
            "count": 1
           },
           {
            "bin_start": 3.12,
            "bin_end": 3.18,
            "count": 0
           },
           {
            "bin_start": 3.18,
            "bin_end": 3.24,
            "count": 1
           },
           {
            "bin_start": 3.24,
            "bin_end": 3.3,
            "count": 0
           },
           {
            "bin_start": 3.3,
            "bin_end": 3.3600000000000003,
            "count": 0
           },
           {
            "bin_start": 3.3600000000000003,
            "bin_end": 3.42,
            "count": 0
           },
           {
            "bin_start": 3.42,
            "bin_end": 3.48,
            "count": 0
           },
           {
            "bin_start": 3.48,
            "bin_end": 3.54,
            "count": 1
           },
           {
            "bin_start": 3.54,
            "bin_end": 3.6,
            "count": 1
           }
          ]
         }
        },
        {
         "name": "petal_length",
         "dtype": "float64",
         "stats": {
          "unique_count": 3,
          "nan_count": 0,
          "min": "1.3",
          "max": "1.5",
          "histogram": [
           {
            "bin_start": 1.3,
            "bin_end": 1.32,
            "count": 1
           },
           {
            "bin_start": 1.32,
            "bin_end": 1.34,
            "count": 0
           },
           {
            "bin_start": 1.34,
            "bin_end": 1.36,
            "count": 0
           },
           {
            "bin_start": 1.36,
            "bin_end": 1.3800000000000001,
            "count": 0
           },
           {
            "bin_start": 1.3800000000000001,
            "bin_end": 1.4,
            "count": 0
           },
           {
            "bin_start": 1.4,
            "bin_end": 1.42,
            "count": 3
           },
           {
            "bin_start": 1.42,
            "bin_end": 1.44,
            "count": 0
           },
           {
            "bin_start": 1.44,
            "bin_end": 1.46,
            "count": 0
           },
           {
            "bin_start": 1.46,
            "bin_end": 1.48,
            "count": 0
           },
           {
            "bin_start": 1.48,
            "bin_end": 1.5,
            "count": 1
           }
          ]
         }
        },
        {
         "name": "petal_width",
         "dtype": "float64",
         "stats": {
          "unique_count": 1,
          "nan_count": 0,
          "min": "0.2",
          "max": "0.2",
          "histogram": [
           {
            "bin_start": -0.3,
            "bin_end": -0.19999999999999998,
            "count": 0
           },
           {
            "bin_start": -0.19999999999999998,
            "bin_end": -0.09999999999999998,
            "count": 0
           },
           {
            "bin_start": -0.09999999999999998,
            "bin_end": 5.551115123125783e-17,
            "count": 0
           },
           {
            "bin_start": 5.551115123125783e-17,
            "bin_end": 0.10000000000000003,
            "count": 0
           },
           {
            "bin_start": 0.10000000000000003,
            "bin_end": 0.2,
            "count": 0
           },
           {
            "bin_start": 0.2,
            "bin_end": 0.3000000000000001,
            "count": 5
           },
           {
            "bin_start": 0.3000000000000001,
            "bin_end": 0.4000000000000001,
            "count": 0
           },
           {
            "bin_start": 0.4000000000000001,
            "bin_end": 0.5,
            "count": 0
           },
           {
            "bin_start": 0.5,
            "bin_end": 0.6000000000000001,
            "count": 0
           },
           {
            "bin_start": 0.6000000000000001,
            "bin_end": 0.7,
            "count": 0
           }
          ]
         }
        },
        {
         "name": "species",
         "dtype": "object",
         "stats": {
          "unique_count": 1,
          "nan_count": 0,
          "categories": [
           {
            "name": "Iris-setosa",
            "count": 5
           }
          ]
         }
        },
        {
         "name": "_deepnote_index_column",
         "dtype": "int64"
        }
       ],
       "rows": [
        {
         "sepal_length": "5.1",
         "sepal_width": "3.5",
         "petal_length": "1.4",
         "petal_width": "0.2",
         "species": "Iris-setosa",
         "_deepnote_index_column": "0"
        },
        {
         "sepal_length": "4.9",
         "sepal_width": "3.0",
         "petal_length": "1.4",
         "petal_width": "0.2",
         "species": "Iris-setosa",
         "_deepnote_index_column": "1"
        },
        {
         "sepal_length": "4.7",
         "sepal_width": "3.2",
         "petal_length": "1.3",
         "petal_width": "0.2",
         "species": "Iris-setosa",
         "_deepnote_index_column": "2"
        },
        {
         "sepal_length": "4.6",
         "sepal_width": "3.1",
         "petal_length": "1.5",
         "petal_width": "0.2",
         "species": "Iris-setosa",
         "_deepnote_index_column": "3"
        },
        {
         "sepal_length": "5.0",
         "sepal_width": "3.6",
         "petal_length": "1.4",
         "petal_width": "0.2",
         "species": "Iris-setosa",
         "_deepnote_index_column": "4"
        }
       ]
      },
      "text/plain": "   sepal_length  sepal_width  petal_length  petal_width      species\n0           5.1          3.5           1.4          0.2  Iris-setosa\n1           4.9          3.0           1.4          0.2  Iris-setosa\n2           4.7          3.2           1.3          0.2  Iris-setosa\n3           4.6          3.1           1.5          0.2  Iris-setosa\n4           5.0          3.6           1.4          0.2  Iris-setosa",
      "text/html": "<div>\n<style scoped>\n    .dataframe tbody tr th:only-of-type {\n        vertical-align: middle;\n    }\n\n    .dataframe tbody tr th {\n        vertical-align: top;\n    }\n\n    .dataframe thead th {\n        text-align: right;\n    }\n</style>\n<table border=\"1\" class=\"dataframe\">\n  <thead>\n    <tr style=\"text-align: right;\">\n      <th></th>\n      <th>sepal_length</th>\n      <th>sepal_width</th>\n      <th>petal_length</th>\n      <th>petal_width</th>\n      <th>species</th>\n    </tr>\n  </thead>\n  <tbody>\n    <tr>\n      <th>0</th>\n      <td>5.1</td>\n      <td>3.5</td>\n      <td>1.4</td>\n      <td>0.2</td>\n      <td>Iris-setosa</td>\n    </tr>\n    <tr>\n      <th>1</th>\n      <td>4.9</td>\n      <td>3.0</td>\n      <td>1.4</td>\n      <td>0.2</td>\n      <td>Iris-setosa</td>\n    </tr>\n    <tr>\n      <th>2</th>\n      <td>4.7</td>\n      <td>3.2</td>\n      <td>1.3</td>\n      <td>0.2</td>\n      <td>Iris-setosa</td>\n    </tr>\n    <tr>\n      <th>3</th>\n      <td>4.6</td>\n      <td>3.1</td>\n      <td>1.5</td>\n      <td>0.2</td>\n      <td>Iris-setosa</td>\n    </tr>\n    <tr>\n      <th>4</th>\n      <td>5.0</td>\n      <td>3.6</td>\n      <td>1.4</td>\n      <td>0.2</td>\n      <td>Iris-setosa</td>\n    </tr>\n  </tbody>\n</table>\n</div>"
     },
     "metadata": {}
    }
   ]
  },
  {
   "cell_type": "code",
   "metadata": {
    "cell_id": "e7f317b7dd094dcc9e040740b8bfed1f",
    "tags": [],
    "deepnote_to_be_reexecuted": false,
    "source_hash": "8801ed7d",
    "execution_start": 1662688190623,
    "execution_millis": 325,
    "deepnote_cell_type": "code",
    "deepnote_cell_height": 412,
    "deepnote_output_heights": [
     266
    ]
   },
   "source": "plt.scatter(data.sepal_length, data.sepal_width)\nplt.xlabel(\"Sepal length\")\nplt.ylabel(\"Sepal width\")\nplt.show()",
   "execution_count": 3,
   "outputs": [
    {
     "data": {
      "text/plain": "<Figure size 432x288 with 1 Axes>",
      "image/png": "[encoded data removed]"
     },
     "metadata": {
      "needs_background": "light",
      "image/png": {
       "width": 387,
       "height": 265
      }
     },
     "output_type": "display_data"
    }
   ]
  },
  {
   "cell_type": "code",
   "metadata": {
    "cell_id": "75680a89d56d42bdbc9ca67c042f9ae3",
    "tags": [],
    "deepnote_to_be_reexecuted": false,
    "source_hash": "ddfa57ba",
    "execution_start": 1662688190997,
    "execution_millis": 192,
    "deepnote_cell_type": "code",
    "deepnote_cell_height": 409,
    "deepnote_output_heights": [
     263
    ]
   },
   "source": "plt.hist( data.petal_width)\nplt.xlabel(\"Petal width\")\nplt.ylabel(\"Number of plants with same petal width\")\nplt.show()",
   "execution_count": 4,
   "outputs": [
    {
     "data": {
      "text/plain": "<Figure size 432x288 with 1 Axes>",
      "image/png": "[encoded data removed]"
     },
     "metadata": {
      "needs_background": "light",
      "image/png": {
       "width": 382,
       "height": 262
      }
     },
     "output_type": "display_data"
    }
   ]
  },
  {
   "cell_type": "markdown",
   "source": "Q2",
   "metadata": {
    "formattedRanges": [],
    "is_collapsed": false,
    "cell_id": "25fd6491879b48f5961bab37f05de94d",
    "tags": [],
    "deepnote_cell_type": "text-cell-p"
   }
  },
  {
   "cell_type": "markdown",
   "source": "EDA",
   "metadata": {
    "formattedRanges": [],
    "is_collapsed": false,
    "cell_id": "debc932d-5623-42ab-8dfd-076575355418",
    "tags": [],
    "deepnote_cell_type": "text-cell-p"
   }
  },
  {
   "cell_type": "code",
   "metadata": {
    "cell_id": "7611f2ce9a854f15ae45c7fbd858d430",
    "tags": [],
    "deepnote_to_be_reexecuted": false,
    "source_hash": "41313cfa",
    "execution_start": 1662688191193,
    "execution_millis": 33,
    "deepnote_cell_type": "code",
    "deepnote_cell_height": 390
   },
   "source": "data.head()",
   "execution_count": 5,
   "outputs": [
    {
     "output_type": "execute_result",
     "execution_count": 5,
     "data": {
      "application/vnd.deepnote.dataframe.v3+json": {
       "column_count": 5,
       "row_count": 5,
       "columns": [
        {
         "name": "sepal_length",
         "dtype": "float64",
         "stats": {
          "unique_count": 5,
          "nan_count": 0,
          "min": "4.6",
          "max": "5.1",
          "histogram": [
           {
            "bin_start": 4.6,
            "bin_end": 4.6499999999999995,
            "count": 1
           },
           {
            "bin_start": 4.6499999999999995,
            "bin_end": 4.699999999999999,
            "count": 0
           },
           {
            "bin_start": 4.699999999999999,
            "bin_end": 4.75,
            "count": 1
           },
           {
            "bin_start": 4.75,
            "bin_end": 4.8,
            "count": 0
           },
           {
            "bin_start": 4.8,
            "bin_end": 4.85,
            "count": 0
           },
           {
            "bin_start": 4.85,
            "bin_end": 4.8999999999999995,
            "count": 0
           },
           {
            "bin_start": 4.8999999999999995,
            "bin_end": 4.949999999999999,
            "count": 1
           },
           {
            "bin_start": 4.949999999999999,
            "bin_end": 5,
            "count": 0
           },
           {
            "bin_start": 5,
            "bin_end": 5.05,
            "count": 1
           },
           {
            "bin_start": 5.05,
            "bin_end": 5.1,
            "count": 1
           }
          ]
         }
        },
        {
         "name": "sepal_width",
         "dtype": "float64",
         "stats": {
          "unique_count": 5,
          "nan_count": 0,
          "min": "3.0",
          "max": "3.6",
          "histogram": [
           {
            "bin_start": 3,
            "bin_end": 3.06,
            "count": 1
           },
           {
            "bin_start": 3.06,
            "bin_end": 3.12,
            "count": 1
           },
           {
            "bin_start": 3.12,
            "bin_end": 3.18,
            "count": 0
           },
           {
            "bin_start": 3.18,
            "bin_end": 3.24,
            "count": 1
           },
           {
            "bin_start": 3.24,
            "bin_end": 3.3,
            "count": 0
           },
           {
            "bin_start": 3.3,
            "bin_end": 3.3600000000000003,
            "count": 0
           },
           {
            "bin_start": 3.3600000000000003,
            "bin_end": 3.42,
            "count": 0
           },
           {
            "bin_start": 3.42,
            "bin_end": 3.48,
            "count": 0
           },
           {
            "bin_start": 3.48,
            "bin_end": 3.54,
            "count": 1
           },
           {
            "bin_start": 3.54,
            "bin_end": 3.6,
            "count": 1
           }
          ]
         }
        },
        {
         "name": "petal_length",
         "dtype": "float64",
         "stats": {
          "unique_count": 3,
          "nan_count": 0,
          "min": "1.3",
          "max": "1.5",
          "histogram": [
           {
            "bin_start": 1.3,
            "bin_end": 1.32,
            "count": 1
           },
           {
            "bin_start": 1.32,
            "bin_end": 1.34,
            "count": 0
           },
           {
            "bin_start": 1.34,
            "bin_end": 1.36,
            "count": 0
           },
           {
            "bin_start": 1.36,
            "bin_end": 1.3800000000000001,
            "count": 0
           },
           {
            "bin_start": 1.3800000000000001,
            "bin_end": 1.4,
            "count": 0
           },
           {
            "bin_start": 1.4,
            "bin_end": 1.42,
            "count": 3
           },
           {
            "bin_start": 1.42,
            "bin_end": 1.44,
            "count": 0
           },
           {
            "bin_start": 1.44,
            "bin_end": 1.46,
            "count": 0
           },
           {
            "bin_start": 1.46,
            "bin_end": 1.48,
            "count": 0
           },
           {
            "bin_start": 1.48,
            "bin_end": 1.5,
            "count": 1
           }
          ]
         }
        },
        {
         "name": "petal_width",
         "dtype": "float64",
         "stats": {
          "unique_count": 1,
          "nan_count": 0,
          "min": "0.2",
          "max": "0.2",
          "histogram": [
           {
            "bin_start": -0.3,
            "bin_end": -0.19999999999999998,
            "count": 0
           },
           {
            "bin_start": -0.19999999999999998,
            "bin_end": -0.09999999999999998,
            "count": 0
           },
           {
            "bin_start": -0.09999999999999998,
            "bin_end": 5.551115123125783e-17,
            "count": 0
           },
           {
            "bin_start": 5.551115123125783e-17,
            "bin_end": 0.10000000000000003,
            "count": 0
           },
           {
            "bin_start": 0.10000000000000003,
            "bin_end": 0.2,
            "count": 0
           },
           {
            "bin_start": 0.2,
            "bin_end": 0.3000000000000001,
            "count": 5
           },
           {
            "bin_start": 0.3000000000000001,
            "bin_end": 0.4000000000000001,
            "count": 0
           },
           {
            "bin_start": 0.4000000000000001,
            "bin_end": 0.5,
            "count": 0
           },
           {
            "bin_start": 0.5,
            "bin_end": 0.6000000000000001,
            "count": 0
           },
           {
            "bin_start": 0.6000000000000001,
            "bin_end": 0.7,
            "count": 0
           }
          ]
         }
        },
        {
         "name": "species",
         "dtype": "object",
         "stats": {
          "unique_count": 1,
          "nan_count": 0,
          "categories": [
           {
            "name": "Iris-setosa",
            "count": 5
           }
          ]
         }
        },
        {
         "name": "_deepnote_index_column",
         "dtype": "int64"
        }
       ],
       "rows": [
        {
         "sepal_length": "5.1",
         "sepal_width": "3.5",
         "petal_length": "1.4",
         "petal_width": "0.2",
         "species": "Iris-setosa",
         "_deepnote_index_column": "0"
        },
        {
         "sepal_length": "4.9",
         "sepal_width": "3.0",
         "petal_length": "1.4",
         "petal_width": "0.2",
         "species": "Iris-setosa",
         "_deepnote_index_column": "1"
        },
        {
         "sepal_length": "4.7",
         "sepal_width": "3.2",
         "petal_length": "1.3",
         "petal_width": "0.2",
         "species": "Iris-setosa",
         "_deepnote_index_column": "2"
        },
        {
         "sepal_length": "4.6",
         "sepal_width": "3.1",
         "petal_length": "1.5",
         "petal_width": "0.2",
         "species": "Iris-setosa",
         "_deepnote_index_column": "3"
        },
        {
         "sepal_length": "5.0",
         "sepal_width": "3.6",
         "petal_length": "1.4",
         "petal_width": "0.2",
         "species": "Iris-setosa",
         "_deepnote_index_column": "4"
        }
       ]
      },
      "text/plain": "   sepal_length  sepal_width  petal_length  petal_width      species\n0           5.1          3.5           1.4          0.2  Iris-setosa\n1           4.9          3.0           1.4          0.2  Iris-setosa\n2           4.7          3.2           1.3          0.2  Iris-setosa\n3           4.6          3.1           1.5          0.2  Iris-setosa\n4           5.0          3.6           1.4          0.2  Iris-setosa",
      "text/html": "<div>\n<style scoped>\n    .dataframe tbody tr th:only-of-type {\n        vertical-align: middle;\n    }\n\n    .dataframe tbody tr th {\n        vertical-align: top;\n    }\n\n    .dataframe thead th {\n        text-align: right;\n    }\n</style>\n<table border=\"1\" class=\"dataframe\">\n  <thead>\n    <tr style=\"text-align: right;\">\n      <th></th>\n      <th>sepal_length</th>\n      <th>sepal_width</th>\n      <th>petal_length</th>\n      <th>petal_width</th>\n      <th>species</th>\n    </tr>\n  </thead>\n  <tbody>\n    <tr>\n      <th>0</th>\n      <td>5.1</td>\n      <td>3.5</td>\n      <td>1.4</td>\n      <td>0.2</td>\n      <td>Iris-setosa</td>\n    </tr>\n    <tr>\n      <th>1</th>\n      <td>4.9</td>\n      <td>3.0</td>\n      <td>1.4</td>\n      <td>0.2</td>\n      <td>Iris-setosa</td>\n    </tr>\n    <tr>\n      <th>2</th>\n      <td>4.7</td>\n      <td>3.2</td>\n      <td>1.3</td>\n      <td>0.2</td>\n      <td>Iris-setosa</td>\n    </tr>\n    <tr>\n      <th>3</th>\n      <td>4.6</td>\n      <td>3.1</td>\n      <td>1.5</td>\n      <td>0.2</td>\n      <td>Iris-setosa</td>\n    </tr>\n    <tr>\n      <th>4</th>\n      <td>5.0</td>\n      <td>3.6</td>\n      <td>1.4</td>\n      <td>0.2</td>\n      <td>Iris-setosa</td>\n    </tr>\n  </tbody>\n</table>\n</div>"
     },
     "metadata": {}
    }
   ]
  },
  {
   "cell_type": "code",
   "metadata": {
    "cell_id": "43c1a8e034b9493ea23cbb14907cc1d7",
    "tags": [],
    "deepnote_to_be_reexecuted": false,
    "source_hash": "2445f9c2",
    "execution_start": 1662688191263,
    "execution_millis": 4,
    "deepnote_cell_type": "code",
    "deepnote_cell_height": 189,
    "deepnote_output_heights": [
     97
    ]
   },
   "source": "data.mean()",
   "execution_count": 6,
   "outputs": [
    {
     "output_type": "execute_result",
     "execution_count": 6,
     "data": {
      "text/plain": "sepal_length    5.843333\nsepal_width     3.054000\npetal_length    3.758667\npetal_width     1.198667\ndtype: float64"
     },
     "metadata": {}
    }
   ]
  },
  {
   "cell_type": "code",
   "metadata": {
    "cell_id": "d642b1dbaa7c4948ba6e825d3e806894",
    "tags": [],
    "deepnote_to_be_reexecuted": false,
    "source_hash": "4d07ba38",
    "execution_start": 1662688191263,
    "execution_millis": 4,
    "deepnote_cell_type": "code",
    "deepnote_cell_height": 189,
    "deepnote_output_heights": [
     97
    ]
   },
   "source": "data.median(axis=0)",
   "execution_count": 7,
   "outputs": [
    {
     "output_type": "execute_result",
     "execution_count": 7,
     "data": {
      "text/plain": "sepal_length    5.80\nsepal_width     3.00\npetal_length    4.35\npetal_width     1.30\ndtype: float64"
     },
     "metadata": {}
    }
   ]
  },
  {
   "cell_type": "code",
   "metadata": {
    "cell_id": "6470c6efc6074bed8d3ec1a20a41cdde",
    "tags": [],
    "deepnote_to_be_reexecuted": false,
    "source_hash": "ecd4128b",
    "execution_start": 1662688191264,
    "execution_millis": 10,
    "deepnote_cell_type": "code",
    "deepnote_cell_height": 226
   },
   "source": "data.drop(\"species\", axis=1).mode()",
   "execution_count": 8,
   "outputs": [
    {
     "output_type": "execute_result",
     "execution_count": 8,
     "data": {
      "application/vnd.deepnote.dataframe.v3+json": {
       "column_count": 4,
       "row_count": 1,
       "columns": [
        {
         "name": "sepal_length",
         "dtype": "float64",
         "stats": {
          "unique_count": 1,
          "nan_count": 0,
          "min": "5.0",
          "max": "5.0",
          "histogram": [
           {
            "bin_start": 4.5,
            "bin_end": 4.6,
            "count": 0
           },
           {
            "bin_start": 4.6,
            "bin_end": 4.7,
            "count": 0
           },
           {
            "bin_start": 4.7,
            "bin_end": 4.8,
            "count": 0
           },
           {
            "bin_start": 4.8,
            "bin_end": 4.9,
            "count": 0
           },
           {
            "bin_start": 4.9,
            "bin_end": 5,
            "count": 0
           },
           {
            "bin_start": 5,
            "bin_end": 5.1,
            "count": 1
           },
           {
            "bin_start": 5.1,
            "bin_end": 5.2,
            "count": 0
           },
           {
            "bin_start": 5.2,
            "bin_end": 5.3,
            "count": 0
           },
           {
            "bin_start": 5.3,
            "bin_end": 5.4,
            "count": 0
           },
           {
            "bin_start": 5.4,
            "bin_end": 5.5,
            "count": 0
           }
          ]
         }
        },
        {
         "name": "sepal_width",
         "dtype": "float64",
         "stats": {
          "unique_count": 1,
          "nan_count": 0,
          "min": "3.0",
          "max": "3.0",
          "histogram": [
           {
            "bin_start": 2.5,
            "bin_end": 2.6,
            "count": 0
           },
           {
            "bin_start": 2.6,
            "bin_end": 2.7,
            "count": 0
           },
           {
            "bin_start": 2.7,
            "bin_end": 2.8,
            "count": 0
           },
           {
            "bin_start": 2.8,
            "bin_end": 2.9,
            "count": 0
           },
           {
            "bin_start": 2.9,
            "bin_end": 3,
            "count": 0
           },
           {
            "bin_start": 3,
            "bin_end": 3.1,
            "count": 1
           },
           {
            "bin_start": 3.1,
            "bin_end": 3.2,
            "count": 0
           },
           {
            "bin_start": 3.2,
            "bin_end": 3.3,
            "count": 0
           },
           {
            "bin_start": 3.3,
            "bin_end": 3.4,
            "count": 0
           },
           {
            "bin_start": 3.4,
            "bin_end": 3.5,
            "count": 0
           }
          ]
         }
        },
        {
         "name": "petal_length",
         "dtype": "float64",
         "stats": {
          "unique_count": 1,
          "nan_count": 0,
          "min": "1.5",
          "max": "1.5",
          "histogram": [
           {
            "bin_start": 1,
            "bin_end": 1.1,
            "count": 0
           },
           {
            "bin_start": 1.1,
            "bin_end": 1.2,
            "count": 0
           },
           {
            "bin_start": 1.2,
            "bin_end": 1.3,
            "count": 0
           },
           {
            "bin_start": 1.3,
            "bin_end": 1.4,
            "count": 0
           },
           {
            "bin_start": 1.4,
            "bin_end": 1.5,
            "count": 0
           },
           {
            "bin_start": 1.5,
            "bin_end": 1.6,
            "count": 1
           },
           {
            "bin_start": 1.6,
            "bin_end": 1.7000000000000002,
            "count": 0
           },
           {
            "bin_start": 1.7000000000000002,
            "bin_end": 1.8,
            "count": 0
           },
           {
            "bin_start": 1.8,
            "bin_end": 1.9,
            "count": 0
           },
           {
            "bin_start": 1.9,
            "bin_end": 2,
            "count": 0
           }
          ]
         }
        },
        {
         "name": "petal_width",
         "dtype": "float64",
         "stats": {
          "unique_count": 1,
          "nan_count": 0,
          "min": "0.2",
          "max": "0.2",
          "histogram": [
           {
            "bin_start": -0.3,
            "bin_end": -0.19999999999999998,
            "count": 0
           },
           {
            "bin_start": -0.19999999999999998,
            "bin_end": -0.09999999999999998,
            "count": 0
           },
           {
            "bin_start": -0.09999999999999998,
            "bin_end": 5.551115123125783e-17,
            "count": 0
           },
           {
            "bin_start": 5.551115123125783e-17,
            "bin_end": 0.10000000000000003,
            "count": 0
           },
           {
            "bin_start": 0.10000000000000003,
            "bin_end": 0.2,
            "count": 0
           },
           {
            "bin_start": 0.2,
            "bin_end": 0.3000000000000001,
            "count": 1
           },
           {
            "bin_start": 0.3000000000000001,
            "bin_end": 0.4000000000000001,
            "count": 0
           },
           {
            "bin_start": 0.4000000000000001,
            "bin_end": 0.5,
            "count": 0
           },
           {
            "bin_start": 0.5,
            "bin_end": 0.6000000000000001,
            "count": 0
           },
           {
            "bin_start": 0.6000000000000001,
            "bin_end": 0.7,
            "count": 0
           }
          ]
         }
        },
        {
         "name": "_deepnote_index_column",
         "dtype": "int64"
        }
       ],
       "rows": [
        {
         "sepal_length": "5.0",
         "sepal_width": "3.0",
         "petal_length": "1.5",
         "petal_width": "0.2",
         "_deepnote_index_column": "0"
        }
       ]
      },
      "text/plain": "   sepal_length  sepal_width  petal_length  petal_width\n0           5.0          3.0           1.5          0.2",
      "text/html": "<div>\n<style scoped>\n    .dataframe tbody tr th:only-of-type {\n        vertical-align: middle;\n    }\n\n    .dataframe tbody tr th {\n        vertical-align: top;\n    }\n\n    .dataframe thead th {\n        text-align: right;\n    }\n</style>\n<table border=\"1\" class=\"dataframe\">\n  <thead>\n    <tr style=\"text-align: right;\">\n      <th></th>\n      <th>sepal_length</th>\n      <th>sepal_width</th>\n      <th>petal_length</th>\n      <th>petal_width</th>\n    </tr>\n  </thead>\n  <tbody>\n    <tr>\n      <th>0</th>\n      <td>5.0</td>\n      <td>3.0</td>\n      <td>1.5</td>\n      <td>0.2</td>\n    </tr>\n  </tbody>\n</table>\n</div>"
     },
     "metadata": {}
    }
   ]
  },
  {
   "cell_type": "code",
   "metadata": {
    "cell_id": "39b5bb42f3234c3dade230e4af12c41a",
    "tags": [],
    "deepnote_to_be_reexecuted": false,
    "source_hash": "61d219dc",
    "execution_start": 1662688191273,
    "execution_millis": 5,
    "deepnote_cell_type": "code",
    "deepnote_cell_height": 189,
    "deepnote_output_heights": [
     97
    ]
   },
   "source": "data.drop(\"species\", axis=1).std()",
   "execution_count": 9,
   "outputs": [
    {
     "output_type": "execute_result",
     "execution_count": 9,
     "data": {
      "text/plain": "sepal_length    0.828066\nsepal_width     0.433594\npetal_length    1.764420\npetal_width     0.763161\ndtype: float64"
     },
     "metadata": {}
    }
   ]
  },
  {
   "cell_type": "markdown",
   "source": "Correlation",
   "metadata": {
    "formattedRanges": [],
    "is_collapsed": false,
    "cell_id": "c1a728493e0b473e8172014697056385",
    "tags": [],
    "deepnote_cell_type": "text-cell-p"
   }
  },
  {
   "cell_type": "code",
   "metadata": {
    "cell_id": "ed422bc5ac17413ebdfb3a4daf2f1a1d",
    "tags": [],
    "deepnote_to_be_reexecuted": false,
    "source_hash": "6522e154",
    "execution_start": 1662688191278,
    "execution_millis": 52,
    "deepnote_cell_type": "code",
    "deepnote_cell_height": 349
   },
   "source": "data.drop(\"species\", axis=1).corr()",
   "execution_count": 10,
   "outputs": [
    {
     "output_type": "execute_result",
     "execution_count": 10,
     "data": {
      "application/vnd.deepnote.dataframe.v3+json": {
       "column_count": 4,
       "row_count": 4,
       "columns": [
        {
         "name": "sepal_length",
         "dtype": "float64",
         "stats": {
          "unique_count": 4,
          "nan_count": 0,
          "min": "-0.10936924995064931",
          "max": "1.0",
          "histogram": [
           {
            "bin_start": -0.10936924995064931,
            "bin_end": 0.0015676750444156284,
            "count": 1
           },
           {
            "bin_start": 0.0015676750444156284,
            "bin_end": 0.11250460003948057,
            "count": 0
           },
           {
            "bin_start": 0.11250460003948057,
            "bin_end": 0.22344152503454554,
            "count": 0
           },
           {
            "bin_start": 0.22344152503454554,
            "bin_end": 0.3343784500296104,
            "count": 0
           },
           {
            "bin_start": 0.3343784500296104,
            "bin_end": 0.44531537502467533,
            "count": 0
           },
           {
            "bin_start": 0.44531537502467533,
            "bin_end": 0.5562523000197404,
            "count": 0
           },
           {
            "bin_start": 0.5562523000197404,
            "bin_end": 0.6671892250148053,
            "count": 0
           },
           {
            "bin_start": 0.6671892250148053,
            "bin_end": 0.7781261500098702,
            "count": 0
           },
           {
            "bin_start": 0.7781261500098702,
            "bin_end": 0.8890630750049351,
            "count": 2
           },
           {
            "bin_start": 0.8890630750049351,
            "bin_end": 1,
            "count": 1
           }
          ]
         }
        },
        {
         "name": "sepal_width",
         "dtype": "float64",
         "stats": {
          "unique_count": 4,
          "nan_count": 0,
          "min": "-0.4205160964011539",
          "max": "1.0",
          "histogram": [
           {
            "bin_start": -0.4205160964011539,
            "bin_end": -0.2784644867610385,
            "count": 2
           },
           {
            "bin_start": -0.2784644867610385,
            "bin_end": -0.13641287712092315,
            "count": 0
           },
           {
            "bin_start": -0.13641287712092315,
            "bin_end": 0.005638732519192224,
            "count": 1
           },
           {
            "bin_start": 0.005638732519192224,
            "bin_end": 0.1476903421593076,
            "count": 0
           },
           {
            "bin_start": 0.1476903421593076,
            "bin_end": 0.289741951799423,
            "count": 0
           },
           {
            "bin_start": 0.289741951799423,
            "bin_end": 0.43179356143953834,
            "count": 0
           },
           {
            "bin_start": 0.43179356143953834,
            "bin_end": 0.5738451710796537,
            "count": 0
           },
           {
            "bin_start": 0.5738451710796537,
            "bin_end": 0.7158967807197691,
            "count": 0
           },
           {
            "bin_start": 0.7158967807197691,
            "bin_end": 0.8579483903598846,
            "count": 0
           },
           {
            "bin_start": 0.8579483903598846,
            "bin_end": 1,
            "count": 1
           }
          ]
         }
        },
        {
         "name": "petal_length",
         "dtype": "float64",
         "stats": {
          "unique_count": 4,
          "nan_count": 0,
          "min": "-0.4205160964011539",
          "max": "1.0",
          "histogram": [
           {
            "bin_start": -0.4205160964011539,
            "bin_end": -0.2784644867610385,
            "count": 1
           },
           {
            "bin_start": -0.2784644867610385,
            "bin_end": -0.13641287712092315,
            "count": 0
           },
           {
            "bin_start": -0.13641287712092315,
            "bin_end": 0.005638732519192224,
            "count": 0
           },
           {
            "bin_start": 0.005638732519192224,
            "bin_end": 0.1476903421593076,
            "count": 0
           },
           {
            "bin_start": 0.1476903421593076,
            "bin_end": 0.289741951799423,
            "count": 0
           },
           {
            "bin_start": 0.289741951799423,
            "bin_end": 0.43179356143953834,
            "count": 0
           },
           {
            "bin_start": 0.43179356143953834,
            "bin_end": 0.5738451710796537,
            "count": 0
           },
           {
            "bin_start": 0.5738451710796537,
            "bin_end": 0.7158967807197691,
            "count": 0
           },
           {
            "bin_start": 0.7158967807197691,
            "bin_end": 0.8579483903598846,
            "count": 0
           },
           {
            "bin_start": 0.8579483903598846,
            "bin_end": 1,
            "count": 3
           }
          ]
         }
        },
        {
         "name": "petal_width",
         "dtype": "float64",
         "stats": {
          "unique_count": 4,
          "nan_count": 0,
          "min": "-0.35654408961380507",
          "max": "1.0",
          "histogram": [
           {
            "bin_start": -0.35654408961380507,
            "bin_end": -0.22088968065242456,
            "count": 1
           },
           {
            "bin_start": -0.22088968065242456,
            "bin_end": -0.08523527169104406,
            "count": 0
           },
           {
            "bin_start": -0.08523527169104406,
            "bin_end": 0.05041913727033648,
            "count": 0
           },
           {
            "bin_start": 0.05041913727033648,
            "bin_end": 0.18607354623171696,
            "count": 0
           },
           {
            "bin_start": 0.18607354623171696,
            "bin_end": 0.32172795519309744,
            "count": 0
           },
           {
            "bin_start": 0.32172795519309744,
            "bin_end": 0.457382364154478,
            "count": 0
           },
           {
            "bin_start": 0.457382364154478,
            "bin_end": 0.5930367731158586,
            "count": 0
           },
           {
            "bin_start": 0.5930367731158586,
            "bin_end": 0.728691182077239,
            "count": 0
           },
           {
            "bin_start": 0.728691182077239,
            "bin_end": 0.8643455910386195,
            "count": 1
           },
           {
            "bin_start": 0.8643455910386195,
            "bin_end": 1,
            "count": 2
           }
          ]
         }
        },
        {
         "name": "_deepnote_index_column",
         "dtype": "object"
        }
       ],
       "rows": [
        {
         "sepal_length": "1.0",
         "sepal_width": "-0.10936924995064931",
         "petal_length": "0.8717541573048716",
         "petal_width": "0.8179536333691642",
         "_deepnote_index_column": "sepal_length"
        },
        {
         "sepal_length": "-0.10936924995064931",
         "sepal_width": "1.0",
         "petal_length": "-0.4205160964011539",
         "petal_width": "-0.35654408961380507",
         "_deepnote_index_column": "sepal_width"
        },
        {
         "sepal_length": "0.8717541573048716",
         "sepal_width": "-0.4205160964011539",
         "petal_length": "1.0",
         "petal_width": "0.9627570970509662",
         "_deepnote_index_column": "petal_length"
        },
        {
         "sepal_length": "0.8179536333691642",
         "sepal_width": "-0.35654408961380507",
         "petal_length": "0.9627570970509662",
         "petal_width": "1.0",
         "_deepnote_index_column": "petal_width"
        }
       ]
      },
      "text/plain": "              sepal_length  sepal_width  petal_length  petal_width\nsepal_length      1.000000    -0.109369      0.871754     0.817954\nsepal_width      -0.109369     1.000000     -0.420516    -0.356544\npetal_length      0.871754    -0.420516      1.000000     0.962757\npetal_width       0.817954    -0.356544      0.962757     1.000000",
      "text/html": "<div>\n<style scoped>\n    .dataframe tbody tr th:only-of-type {\n        vertical-align: middle;\n    }\n\n    .dataframe tbody tr th {\n        vertical-align: top;\n    }\n\n    .dataframe thead th {\n        text-align: right;\n    }\n</style>\n<table border=\"1\" class=\"dataframe\">\n  <thead>\n    <tr style=\"text-align: right;\">\n      <th></th>\n      <th>sepal_length</th>\n      <th>sepal_width</th>\n      <th>petal_length</th>\n      <th>petal_width</th>\n    </tr>\n  </thead>\n  <tbody>\n    <tr>\n      <th>sepal_length</th>\n      <td>1.000000</td>\n      <td>-0.109369</td>\n      <td>0.871754</td>\n      <td>0.817954</td>\n    </tr>\n    <tr>\n      <th>sepal_width</th>\n      <td>-0.109369</td>\n      <td>1.000000</td>\n      <td>-0.420516</td>\n      <td>-0.356544</td>\n    </tr>\n    <tr>\n      <th>petal_length</th>\n      <td>0.871754</td>\n      <td>-0.420516</td>\n      <td>1.000000</td>\n      <td>0.962757</td>\n    </tr>\n    <tr>\n      <th>petal_width</th>\n      <td>0.817954</td>\n      <td>-0.356544</td>\n      <td>0.962757</td>\n      <td>1.000000</td>\n    </tr>\n  </tbody>\n</table>\n</div>"
     },
     "metadata": {}
    }
   ]
  },
  {
   "cell_type": "markdown",
   "source": "Apple stock data : ",
   "metadata": {
    "formattedRanges": [],
    "is_collapsed": false,
    "cell_id": "88c00cfb749447a5a46d714b259da813",
    "tags": [],
    "deepnote_cell_type": "text-cell-p"
   }
  },
  {
   "cell_type": "markdown",
   "source": "https://www.kaggle.com/datasets/varpit94/apple-stock-data-updated-till-22jun2021?select=AAPL.csv",
   "metadata": {
    "formattedRanges": [
     {
      "type": "link",
      "url": "https://www.kaggle.com/datasets/varpit94/apple-stock-data-updated-till-22jun2021?select=AAPL.csv",
      "fromCodePoint": 0,
      "toCodePoint": 96,
      "ranges": []
     }
    ],
    "is_collapsed": false,
    "cell_id": "fab20090-d0eb-490d-b711-303872396725",
    "tags": [],
    "deepnote_cell_type": "text-cell-p"
   }
  },
  {
   "cell_type": "markdown",
   "source": "Apple revenue:",
   "metadata": {
    "is_collapsed": false,
    "cell_id": "cf6a0a086b2a4efcbb1d9d2f7aa97e27",
    "tags": [],
    "formattedRanges": [],
    "deepnote_cell_type": "text-cell-p"
   }
  },
  {
   "cell_type": "markdown",
   "source": "https://www.macrotrends.net/stocks/charts/AAPL/apple/revenue",
   "metadata": {
    "is_collapsed": false,
    "cell_id": "e3f5d688-2917-456c-bd9d-67ee1fa9ff9c",
    "tags": [],
    "formattedRanges": [
     {
      "type": "link",
      "url": "https://www.macrotrends.net/stocks/charts/AAPL/apple/revenue",
      "fromCodePoint": 0,
      "toCodePoint": 60,
      "ranges": []
     }
    ],
    "deepnote_cell_type": "text-cell-p"
   }
  },
  {
   "cell_type": "markdown",
   "source": "",
   "metadata": {
    "formattedRanges": [],
    "is_collapsed": false,
    "cell_id": "7fe85206-cdcd-4242-8cb8-77362e7a106b",
    "tags": [],
    "deepnote_cell_type": "text-cell-p"
   }
  },
  {
   "cell_type": "code",
   "source": "rev = pd.DataFrame([(2021,365817),\n(2020,274515),\n(2019,260174),\n(2018,265595),\n(2017,229234),\n(2016,215639),\n(2015,233715),\n(2014,182795),\n(2013,170910),\n(2012,156508),\n(2011,108249)], columns = ['year', 'revenue'])",
   "metadata": {
    "cell_id": "8f982a761caf482b9b5e5e9fa4bc8777",
    "tags": [],
    "deepnote_to_be_reexecuted": false,
    "source_hash": "c13d65c5",
    "execution_start": 1662688191332,
    "execution_millis": 4,
    "deepnote_cell_type": "code",
    "deepnote_cell_height": 256
   },
   "outputs": [],
   "execution_count": 11
  },
  {
   "cell_type": "code",
   "source": "plt.plot(rev.year, rev.revenue)\nplt.ylabel(\"Revenue\")\nplt.xlabel(\"Year\")\nplt.show()",
   "metadata": {
    "cell_id": "44aa53e55c7840d588e37ed3a2a3c88a",
    "tags": [],
    "deepnote_to_be_reexecuted": false,
    "source_hash": "e0b054a9",
    "execution_start": 1662688253750,
    "execution_millis": 245,
    "deepnote_cell_type": "code",
    "deepnote_cell_height": 409,
    "deepnote_output_heights": [
     263
    ]
   },
   "outputs": [
    {
     "data": {
      "text/plain": "<Figure size 432x288 with 1 Axes>",
      "image/png": "[encoded data removed]"
     },
     "metadata": {
      "needs_background": "light",
      "image/png": {
       "width": 407,
       "height": 262
      }
     },
     "output_type": "display_data"
    }
   ],
   "execution_count": 12
  },
  {
   "cell_type": "code",
   "source": "stock = pd.read_csv(\"AAPL.csv\")\nstock.head()",
   "metadata": {
    "cell_id": "a612863dee284dd2b114fdf17b9a75c7",
    "tags": [],
    "deepnote_to_be_reexecuted": false,
    "source_hash": "d6758f45",
    "execution_start": 1662688327750,
    "execution_millis": 53,
    "deepnote_cell_type": "code",
    "deepnote_cell_height": 424.796875
   },
   "outputs": [
    {
     "output_type": "execute_result",
     "execution_count": 13,
     "data": {
      "application/vnd.deepnote.dataframe.v3+json": {
       "column_count": 7,
       "row_count": 5,
       "columns": [
        {
         "name": "Date",
         "dtype": "object",
         "stats": {
          "unique_count": 5,
          "nan_count": 0,
          "categories": [
           {
            "name": "1980-12-12",
            "count": 1
           },
           {
            "name": "1980-12-15",
            "count": 1
           },
           {
            "name": "3 others",
            "count": 3
           }
          ]
         }
        },
        {
         "name": "Open",
         "dtype": "float64",
         "stats": {
          "unique_count": 5,
          "nan_count": 0,
          "min": "0.113281",
          "max": "0.128348",
          "histogram": [
           {
            "bin_start": 0.113281,
            "bin_end": 0.1147877,
            "count": 1
           },
           {
            "bin_start": 0.1147877,
            "bin_end": 0.1162944,
            "count": 1
           },
           {
            "bin_start": 0.1162944,
            "bin_end": 0.1178011,
            "count": 0
           },
           {
            "bin_start": 0.1178011,
            "bin_end": 0.1193078,
            "count": 1
           },
           {
            "bin_start": 0.1193078,
            "bin_end": 0.12081449999999999,
            "count": 0
           },
           {
            "bin_start": 0.12081449999999999,
            "bin_end": 0.12232119999999999,
            "count": 1
           },
           {
            "bin_start": 0.12232119999999999,
            "bin_end": 0.12382789999999999,
            "count": 0
           },
           {
            "bin_start": 0.12382789999999999,
            "bin_end": 0.1253346,
            "count": 0
           },
           {
            "bin_start": 0.1253346,
            "bin_end": 0.1268413,
            "count": 0
           },
           {
            "bin_start": 0.1268413,
            "bin_end": 0.128348,
            "count": 1
           }
          ]
         }
        },
        {
         "name": "High",
         "dtype": "float64",
         "stats": {
          "unique_count": 5,
          "nan_count": 0,
          "min": "0.113281",
          "max": "0.128906",
          "histogram": [
           {
            "bin_start": 0.113281,
            "bin_end": 0.1148435,
            "count": 1
           },
           {
            "bin_start": 0.1148435,
            "bin_end": 0.11640600000000001,
            "count": 1
           },
           {
            "bin_start": 0.11640600000000001,
            "bin_end": 0.1179685,
            "count": 0
           },
           {
            "bin_start": 0.1179685,
            "bin_end": 0.119531,
            "count": 1
           },
           {
            "bin_start": 0.119531,
            "bin_end": 0.12109349999999999,
            "count": 0
           },
           {
            "bin_start": 0.12109349999999999,
            "bin_end": 0.122656,
            "count": 1
           },
           {
            "bin_start": 0.122656,
            "bin_end": 0.1242185,
            "count": 0
           },
           {
            "bin_start": 0.1242185,
            "bin_end": 0.125781,
            "count": 0
           },
           {
            "bin_start": 0.125781,
            "bin_end": 0.1273435,
            "count": 0
           },
           {
            "bin_start": 0.1273435,
            "bin_end": 0.128906,
            "count": 1
           }
          ]
         }
        },
        {
         "name": "Low",
         "dtype": "float64",
         "stats": {
          "unique_count": 5,
          "nan_count": 0,
          "min": "0.112723",
          "max": "0.128348",
          "histogram": [
           {
            "bin_start": 0.112723,
            "bin_end": 0.1142855,
            "count": 1
           },
           {
            "bin_start": 0.1142855,
            "bin_end": 0.115848,
            "count": 1
           },
           {
            "bin_start": 0.115848,
            "bin_end": 0.1174105,
            "count": 0
           },
           {
            "bin_start": 0.1174105,
            "bin_end": 0.118973,
            "count": 1
           },
           {
            "bin_start": 0.118973,
            "bin_end": 0.12053549999999999,
            "count": 0
           },
           {
            "bin_start": 0.12053549999999999,
            "bin_end": 0.122098,
            "count": 1
           },
           {
            "bin_start": 0.122098,
            "bin_end": 0.12366049999999999,
            "count": 0
           },
           {
            "bin_start": 0.12366049999999999,
            "bin_end": 0.125223,
            "count": 0
           },
           {
            "bin_start": 0.125223,
            "bin_end": 0.1267855,
            "count": 0
           },
           {
            "bin_start": 0.1267855,
            "bin_end": 0.128348,
            "count": 1
           }
          ]
         }
        },
        {
         "name": "Close",
         "dtype": "float64",
         "stats": {
          "unique_count": 5,
          "nan_count": 0,
          "min": "0.112723",
          "max": "0.128348",
          "histogram": [
           {
            "bin_start": 0.112723,
            "bin_end": 0.1142855,
            "count": 1
           },
           {
            "bin_start": 0.1142855,
            "bin_end": 0.115848,
            "count": 1
           },
           {
            "bin_start": 0.115848,
            "bin_end": 0.1174105,
            "count": 0
           },
           {
            "bin_start": 0.1174105,
            "bin_end": 0.118973,
            "count": 1
           },
           {
            "bin_start": 0.118973,
            "bin_end": 0.12053549999999999,
            "count": 0
           },
           {
            "bin_start": 0.12053549999999999,
            "bin_end": 0.122098,
            "count": 1
           },
           {
            "bin_start": 0.122098,
            "bin_end": 0.12366049999999999,
            "count": 0
           },
           {
            "bin_start": 0.12366049999999999,
            "bin_end": 0.125223,
            "count": 0
           },
           {
            "bin_start": 0.125223,
            "bin_end": 0.1267855,
            "count": 0
           },
           {
            "bin_start": 0.1267855,
            "bin_end": 0.128348,
            "count": 1
           }
          ]
         }
        },
        {
         "name": "Adj Close",
         "dtype": "float64",
         "stats": {
          "unique_count": 5,
          "nan_count": 0,
          "min": "0.08811",
          "max": "0.100323",
          "histogram": [
           {
            "bin_start": 0.08811,
            "bin_end": 0.08933129999999999,
            "count": 1
           },
           {
            "bin_start": 0.08933129999999999,
            "bin_end": 0.0905526,
            "count": 1
           },
           {
            "bin_start": 0.0905526,
            "bin_end": 0.09177389999999999,
            "count": 0
           },
           {
            "bin_start": 0.09177389999999999,
            "bin_end": 0.0929952,
            "count": 1
           },
           {
            "bin_start": 0.0929952,
            "bin_end": 0.0942165,
            "count": 0
           },
           {
            "bin_start": 0.0942165,
            "bin_end": 0.09543779999999999,
            "count": 1
           },
           {
            "bin_start": 0.09543779999999999,
            "bin_end": 0.0966591,
            "count": 0
           },
           {
            "bin_start": 0.0966591,
            "bin_end": 0.09788039999999999,
            "count": 0
           },
           {
            "bin_start": 0.09788039999999999,
            "bin_end": 0.0991017,
            "count": 0
           },
           {
            "bin_start": 0.0991017,
            "bin_end": 0.100323,
            "count": 1
           }
          ]
         }
        },
        {
         "name": "Volume",
         "dtype": "int64",
         "stats": {
          "unique_count": 5,
          "nan_count": 0,
          "min": "73449600",
          "max": "469033600",
          "histogram": [
           {
            "bin_start": 73449600,
            "bin_end": 113008000,
            "count": 3
           },
           {
            "bin_start": 113008000,
            "bin_end": 152566400,
            "count": 0
           },
           {
            "bin_start": 152566400,
            "bin_end": 192124800,
            "count": 1
           },
           {
            "bin_start": 192124800,
            "bin_end": 231683200,
            "count": 0
           },
           {
            "bin_start": 231683200,
            "bin_end": 271241600,
            "count": 0
           },
           {
            "bin_start": 271241600,
            "bin_end": 310800000,
            "count": 0
           },
           {
            "bin_start": 310800000,
            "bin_end": 350358400,
            "count": 0
           },
           {
            "bin_start": 350358400,
            "bin_end": 389916800,
            "count": 0
           },
           {
            "bin_start": 389916800,
            "bin_end": 429475200,
            "count": 0
           },
           {
            "bin_start": 429475200,
            "bin_end": 469033600,
            "count": 1
           }
          ]
         }
        },
        {
         "name": "_deepnote_index_column",
         "dtype": "int64"
        }
       ],
       "rows": [
        {
         "Date": "1980-12-12",
         "Open": "0.128348",
         "High": "0.128906",
         "Low": "0.128348",
         "Close": "0.128348",
         "Adj Close": "0.100323",
         "Volume": "469033600",
         "_deepnote_index_column": "0"
        },
        {
         "Date": "1980-12-15",
         "Open": "0.12221",
         "High": "0.12221",
         "Low": "0.121652",
         "Close": "0.121652",
         "Adj Close": "0.095089",
         "Volume": "175884800",
         "_deepnote_index_column": "1"
        },
        {
         "Date": "1980-12-16",
         "Open": "0.113281",
         "High": "0.113281",
         "Low": "0.112723",
         "Close": "0.112723",
         "Adj Close": "0.08811",
         "Volume": "105728000",
         "_deepnote_index_column": "2"
        },
        {
         "Date": "1980-12-17",
         "Open": "0.115513",
         "High": "0.116071",
         "Low": "0.115513",
         "Close": "0.115513",
         "Adj Close": "0.090291",
         "Volume": "86441600",
         "_deepnote_index_column": "3"
        },
        {
         "Date": "1980-12-18",
         "Open": "0.118862",
         "High": "0.11942",
         "Low": "0.118862",
         "Close": "0.118862",
         "Adj Close": "0.092908",
         "Volume": "73449600",
         "_deepnote_index_column": "4"
        }
       ]
      },
      "text/plain": "         Date      Open      High       Low     Close  Adj Close     Volume\n0  1980-12-12  0.128348  0.128906  0.128348  0.128348   0.100323  469033600\n1  1980-12-15  0.122210  0.122210  0.121652  0.121652   0.095089  175884800\n2  1980-12-16  0.113281  0.113281  0.112723  0.112723   0.088110  105728000\n3  1980-12-17  0.115513  0.116071  0.115513  0.115513   0.090291   86441600\n4  1980-12-18  0.118862  0.119420  0.118862  0.118862   0.092908   73449600",
      "text/html": "<div>\n<style scoped>\n    .dataframe tbody tr th:only-of-type {\n        vertical-align: middle;\n    }\n\n    .dataframe tbody tr th {\n        vertical-align: top;\n    }\n\n    .dataframe thead th {\n        text-align: right;\n    }\n</style>\n<table border=\"1\" class=\"dataframe\">\n  <thead>\n    <tr style=\"text-align: right;\">\n      <th></th>\n      <th>Date</th>\n      <th>Open</th>\n      <th>High</th>\n      <th>Low</th>\n      <th>Close</th>\n      <th>Adj Close</th>\n      <th>Volume</th>\n    </tr>\n  </thead>\n  <tbody>\n    <tr>\n      <th>0</th>\n      <td>1980-12-12</td>\n      <td>0.128348</td>\n      <td>0.128906</td>\n      <td>0.128348</td>\n      <td>0.128348</td>\n      <td>0.100323</td>\n      <td>469033600</td>\n    </tr>\n    <tr>\n      <th>1</th>\n      <td>1980-12-15</td>\n      <td>0.122210</td>\n      <td>0.122210</td>\n      <td>0.121652</td>\n      <td>0.121652</td>\n      <td>0.095089</td>\n      <td>175884800</td>\n    </tr>\n    <tr>\n      <th>2</th>\n      <td>1980-12-16</td>\n      <td>0.113281</td>\n      <td>0.113281</td>\n      <td>0.112723</td>\n      <td>0.112723</td>\n      <td>0.088110</td>\n      <td>105728000</td>\n    </tr>\n    <tr>\n      <th>3</th>\n      <td>1980-12-17</td>\n      <td>0.115513</td>\n      <td>0.116071</td>\n      <td>0.115513</td>\n      <td>0.115513</td>\n      <td>0.090291</td>\n      <td>86441600</td>\n    </tr>\n    <tr>\n      <th>4</th>\n      <td>1980-12-18</td>\n      <td>0.118862</td>\n      <td>0.119420</td>\n      <td>0.118862</td>\n      <td>0.118862</td>\n      <td>0.092908</td>\n      <td>73449600</td>\n    </tr>\n  </tbody>\n</table>\n</div>"
     },
     "metadata": {}
    }
   ],
   "execution_count": 13
  },
  {
   "cell_type": "code",
   "source": "stock.tail()",
   "metadata": {
    "cell_id": "c7588ef2a07c4e7ca86930e06bd1b3ed",
    "tags": [],
    "deepnote_to_be_reexecuted": false,
    "source_hash": "5635433e",
    "execution_start": 1662688377106,
    "execution_millis": 28,
    "deepnote_cell_type": "code",
    "deepnote_cell_height": 406.796875
   },
   "outputs": [
    {
     "output_type": "execute_result",
     "execution_count": 14,
     "data": {
      "application/vnd.deepnote.dataframe.v3+json": {
       "column_count": 7,
       "row_count": 5,
       "columns": [
        {
         "name": "Date",
         "dtype": "object",
         "stats": {
          "unique_count": 5,
          "nan_count": 0,
          "categories": [
           {
            "name": "2022-03-18",
            "count": 1
           },
           {
            "name": "2022-03-21",
            "count": 1
           },
           {
            "name": "3 others",
            "count": 3
           }
          ]
         }
        },
        {
         "name": "Open",
         "dtype": "float64",
         "stats": {
          "unique_count": 5,
          "nan_count": 0,
          "min": "160.509995",
          "max": "171.059998",
          "histogram": [
           {
            "bin_start": 160.509995,
            "bin_end": 161.5649953,
            "count": 1
           },
           {
            "bin_start": 161.5649953,
            "bin_end": 162.6199956,
            "count": 0
           },
           {
            "bin_start": 162.6199956,
            "bin_end": 163.6749959,
            "count": 1
           },
           {
            "bin_start": 163.6749959,
            "bin_end": 164.72999620000002,
            "count": 0
           },
           {
            "bin_start": 164.72999620000002,
            "bin_end": 165.7849965,
            "count": 1
           },
           {
            "bin_start": 165.7849965,
            "bin_end": 166.8399968,
            "count": 0
           },
           {
            "bin_start": 166.8399968,
            "bin_end": 167.8949971,
            "count": 0
           },
           {
            "bin_start": 167.8949971,
            "bin_end": 168.9499974,
            "count": 1
           },
           {
            "bin_start": 168.9499974,
            "bin_end": 170.00499770000002,
            "count": 0
           },
           {
            "bin_start": 170.00499770000002,
            "bin_end": 171.059998,
            "count": 1
           }
          ]
         }
        },
        {
         "name": "High",
         "dtype": "float64",
         "stats": {
          "unique_count": 5,
          "nan_count": 0,
          "min": "164.479996",
          "max": "174.139999",
          "histogram": [
           {
            "bin_start": 164.479996,
            "bin_end": 165.4459963,
            "count": 1
           },
           {
            "bin_start": 165.4459963,
            "bin_end": 166.4119966,
            "count": 1
           },
           {
            "bin_start": 166.4119966,
            "bin_end": 167.3779969,
            "count": 0
           },
           {
            "bin_start": 167.3779969,
            "bin_end": 168.3439972,
            "count": 0
           },
           {
            "bin_start": 168.3439972,
            "bin_end": 169.3099975,
            "count": 0
           },
           {
            "bin_start": 169.3099975,
            "bin_end": 170.2759978,
            "count": 1
           },
           {
            "bin_start": 170.2759978,
            "bin_end": 171.2419981,
            "count": 0
           },
           {
            "bin_start": 171.2419981,
            "bin_end": 172.20799839999998,
            "count": 0
           },
           {
            "bin_start": 172.20799839999998,
            "bin_end": 173.1739987,
            "count": 1
           },
           {
            "bin_start": 173.1739987,
            "bin_end": 174.139999,
            "count": 1
           }
          ]
         }
        },
        {
         "name": "Low",
         "dtype": "float64",
         "stats": {
          "unique_count": 5,
          "nan_count": 0,
          "min": "159.759995",
          "max": "170.210007",
          "histogram": [
           {
            "bin_start": 159.759995,
            "bin_end": 160.8049962,
            "count": 1
           },
           {
            "bin_start": 160.8049962,
            "bin_end": 161.8499974,
            "count": 0
           },
           {
            "bin_start": 161.8499974,
            "bin_end": 162.8949986,
            "count": 0
           },
           {
            "bin_start": 162.8949986,
            "bin_end": 163.9399998,
            "count": 1
           },
           {
            "bin_start": 163.9399998,
            "bin_end": 164.985001,
            "count": 1
           },
           {
            "bin_start": 164.985001,
            "bin_end": 166.03000219999998,
            "count": 0
           },
           {
            "bin_start": 166.03000219999998,
            "bin_end": 167.07500339999999,
            "count": 0
           },
           {
            "bin_start": 167.07500339999999,
            "bin_end": 168.1200046,
            "count": 1
           },
           {
            "bin_start": 168.1200046,
            "bin_end": 169.1650058,
            "count": 0
           },
           {
            "bin_start": 169.1650058,
            "bin_end": 170.210007,
            "count": 1
           }
          ]
         }
        },
        {
         "name": "Close",
         "dtype": "float64",
         "stats": {
          "unique_count": 5,
          "nan_count": 0,
          "min": "163.979996",
          "max": "174.070007",
          "histogram": [
           {
            "bin_start": 163.979996,
            "bin_end": 164.9889971,
            "count": 1
           },
           {
            "bin_start": 164.9889971,
            "bin_end": 165.9979982,
            "count": 1
           },
           {
            "bin_start": 165.9979982,
            "bin_end": 167.0069993,
            "count": 0
           },
           {
            "bin_start": 167.0069993,
            "bin_end": 168.0160004,
            "count": 0
           },
           {
            "bin_start": 168.0160004,
            "bin_end": 169.0250015,
            "count": 1
           },
           {
            "bin_start": 169.0250015,
            "bin_end": 170.0340026,
            "count": 0
           },
           {
            "bin_start": 170.0340026,
            "bin_end": 171.0430037,
            "count": 1
           },
           {
            "bin_start": 171.0430037,
            "bin_end": 172.0520048,
            "count": 0
           },
           {
            "bin_start": 172.0520048,
            "bin_end": 173.0610059,
            "count": 0
           },
           {
            "bin_start": 173.0610059,
            "bin_end": 174.070007,
            "count": 1
           }
          ]
         }
        },
        {
         "name": "Adj Close",
         "dtype": "float64",
         "stats": {
          "unique_count": 5,
          "nan_count": 0,
          "min": "163.979996",
          "max": "174.070007",
          "histogram": [
           {
            "bin_start": 163.979996,
            "bin_end": 164.9889971,
            "count": 1
           },
           {
            "bin_start": 164.9889971,
            "bin_end": 165.9979982,
            "count": 1
           },
           {
            "bin_start": 165.9979982,
            "bin_end": 167.0069993,
            "count": 0
           },
           {
            "bin_start": 167.0069993,
            "bin_end": 168.0160004,
            "count": 0
           },
           {
            "bin_start": 168.0160004,
            "bin_end": 169.0250015,
            "count": 1
           },
           {
            "bin_start": 169.0250015,
            "bin_end": 170.0340026,
            "count": 0
           },
           {
            "bin_start": 170.0340026,
            "bin_end": 171.0430037,
            "count": 1
           },
           {
            "bin_start": 171.0430037,
            "bin_end": 172.0520048,
            "count": 0
           },
           {
            "bin_start": 172.0520048,
            "bin_end": 173.0610059,
            "count": 0
           },
           {
            "bin_start": 173.0610059,
            "bin_end": 174.070007,
            "count": 1
           }
          ]
         }
        },
        {
         "name": "Volume",
         "dtype": "int64",
         "stats": {
          "unique_count": 5,
          "nan_count": 0,
          "min": "81532000",
          "max": "123351200",
          "histogram": [
           {
            "bin_start": 81532000,
            "bin_end": 85713920,
            "count": 1
           },
           {
            "bin_start": 85713920,
            "bin_end": 89895840,
            "count": 0
           },
           {
            "bin_start": 89895840,
            "bin_end": 94077760,
            "count": 1
           },
           {
            "bin_start": 94077760,
            "bin_end": 98259680,
            "count": 2
           },
           {
            "bin_start": 98259680,
            "bin_end": 102441600,
            "count": 0
           },
           {
            "bin_start": 102441600,
            "bin_end": 106623520,
            "count": 0
           },
           {
            "bin_start": 106623520,
            "bin_end": 110805440,
            "count": 0
           },
           {
            "bin_start": 110805440,
            "bin_end": 114987360,
            "count": 0
           },
           {
            "bin_start": 114987360,
            "bin_end": 119169280,
            "count": 0
           },
           {
            "bin_start": 119169280,
            "bin_end": 123351200,
            "count": 1
           }
          ]
         }
        },
        {
         "name": "_deepnote_index_column",
         "dtype": "int64"
        }
       ],
       "rows": [
        {
         "Date": "2022-03-18",
         "Open": "160.509995",
         "High": "164.479996",
         "Low": "159.759995",
         "Close": "163.979996",
         "Adj Close": "163.979996",
         "Volume": "123351200",
         "_deepnote_index_column": "10404"
        },
        {
         "Date": "2022-03-21",
         "Open": "163.509995",
         "High": "166.350006",
         "Low": "163.009995",
         "Close": "165.380005",
         "Adj Close": "165.380005",
         "Volume": "95811400",
         "_deepnote_index_column": "10405"
        },
        {
         "Date": "2022-03-22",
         "Open": "165.509995",
         "High": "169.419998",
         "Low": "164.910004",
         "Close": "168.820007",
         "Adj Close": "168.820007",
         "Volume": "81532000",
         "_deepnote_index_column": "10406"
        },
        {
         "Date": "2022-03-23",
         "Open": "167.990005",
         "High": "172.639999",
         "Low": "167.649994",
         "Close": "170.210007",
         "Adj Close": "170.210007",
         "Volume": "98062700",
         "_deepnote_index_column": "10407"
        },
        {
         "Date": "2022-03-24",
         "Open": "171.059998",
         "High": "174.139999",
         "Low": "170.210007",
         "Close": "174.070007",
         "Adj Close": "174.070007",
         "Volume": "90018700",
         "_deepnote_index_column": "10408"
        }
       ]
      },
      "text/plain": "             Date        Open        High         Low       Close   Adj Close  \\\n10404  2022-03-18  160.509995  164.479996  159.759995  163.979996  163.979996   \n10405  2022-03-21  163.509995  166.350006  163.009995  165.380005  165.380005   \n10406  2022-03-22  165.509995  169.419998  164.910004  168.820007  168.820007   \n10407  2022-03-23  167.990005  172.639999  167.649994  170.210007  170.210007   \n10408  2022-03-24  171.059998  174.139999  170.210007  174.070007  174.070007   \n\n          Volume  \n10404  123351200  \n10405   95811400  \n10406   81532000  \n10407   98062700  \n10408   90018700  ",
      "text/html": "<div>\n<style scoped>\n    .dataframe tbody tr th:only-of-type {\n        vertical-align: middle;\n    }\n\n    .dataframe tbody tr th {\n        vertical-align: top;\n    }\n\n    .dataframe thead th {\n        text-align: right;\n    }\n</style>\n<table border=\"1\" class=\"dataframe\">\n  <thead>\n    <tr style=\"text-align: right;\">\n      <th></th>\n      <th>Date</th>\n      <th>Open</th>\n      <th>High</th>\n      <th>Low</th>\n      <th>Close</th>\n      <th>Adj Close</th>\n      <th>Volume</th>\n    </tr>\n  </thead>\n  <tbody>\n    <tr>\n      <th>10404</th>\n      <td>2022-03-18</td>\n      <td>160.509995</td>\n      <td>164.479996</td>\n      <td>159.759995</td>\n      <td>163.979996</td>\n      <td>163.979996</td>\n      <td>123351200</td>\n    </tr>\n    <tr>\n      <th>10405</th>\n      <td>2022-03-21</td>\n      <td>163.509995</td>\n      <td>166.350006</td>\n      <td>163.009995</td>\n      <td>165.380005</td>\n      <td>165.380005</td>\n      <td>95811400</td>\n    </tr>\n    <tr>\n      <th>10406</th>\n      <td>2022-03-22</td>\n      <td>165.509995</td>\n      <td>169.419998</td>\n      <td>164.910004</td>\n      <td>168.820007</td>\n      <td>168.820007</td>\n      <td>81532000</td>\n    </tr>\n    <tr>\n      <th>10407</th>\n      <td>2022-03-23</td>\n      <td>167.990005</td>\n      <td>172.639999</td>\n      <td>167.649994</td>\n      <td>170.210007</td>\n      <td>170.210007</td>\n      <td>98062700</td>\n    </tr>\n    <tr>\n      <th>10408</th>\n      <td>2022-03-24</td>\n      <td>171.059998</td>\n      <td>174.139999</td>\n      <td>170.210007</td>\n      <td>174.070007</td>\n      <td>174.070007</td>\n      <td>90018700</td>\n    </tr>\n  </tbody>\n</table>\n</div>"
     },
     "metadata": {}
    }
   ],
   "execution_count": 14
  },
  {
   "cell_type": "code",
   "source": "stock_2_months = stock[-60:]",
   "metadata": {
    "cell_id": "fc1e9f27a74a4cb3b1d56705c2d5b5f3",
    "tags": [],
    "deepnote_to_be_reexecuted": false,
    "source_hash": "31fa2c32",
    "execution_start": 1662688424591,
    "execution_millis": 2,
    "deepnote_cell_type": "code",
    "deepnote_cell_height": 76
   },
   "outputs": [],
   "execution_count": 15
  },
  {
   "cell_type": "code",
   "source": "stock_2_months.shape",
   "metadata": {
    "cell_id": "859a3b855b71458e9df10538a18ebd59",
    "tags": [],
    "deepnote_to_be_reexecuted": false,
    "source_hash": "83e361bd",
    "execution_start": 1662688433177,
    "execution_millis": 7,
    "deepnote_cell_type": "code",
    "deepnote_cell_height": 112.1875,
    "deepnote_output_heights": [
     20.1875
    ]
   },
   "outputs": [
    {
     "output_type": "execute_result",
     "execution_count": 16,
     "data": {
      "text/plain": "(60, 7)"
     },
     "metadata": {}
    }
   ],
   "execution_count": 16
  },
  {
   "cell_type": "code",
   "source": "stock_2_months.head()",
   "metadata": {
    "cell_id": "b0aaeac21c504d34b0973aa5f049d92c",
    "tags": [],
    "deepnote_to_be_reexecuted": false,
    "source_hash": "2e573416",
    "execution_start": 1662688459552,
    "execution_millis": 48,
    "deepnote_cell_type": "code",
    "deepnote_cell_height": 406.796875
   },
   "outputs": [
    {
     "output_type": "execute_result",
     "execution_count": 17,
     "data": {
      "application/vnd.deepnote.dataframe.v3+json": {
       "column_count": 7,
       "row_count": 5,
       "columns": [
        {
         "name": "Date",
         "dtype": "object",
         "stats": {
          "unique_count": 5,
          "nan_count": 0,
          "categories": [
           {
            "name": "2021-12-29",
            "count": 1
           },
           {
            "name": "2021-12-30",
            "count": 1
           },
           {
            "name": "3 others",
            "count": 3
           }
          ]
         }
        },
        {
         "name": "Open",
         "dtype": "float64",
         "stats": {
          "unique_count": 5,
          "nan_count": 0,
          "min": "177.830002",
          "max": "182.630005",
          "histogram": [
           {
            "bin_start": 177.830002,
            "bin_end": 178.3100023,
            "count": 2
           },
           {
            "bin_start": 178.3100023,
            "bin_end": 178.7900026,
            "count": 0
           },
           {
            "bin_start": 178.7900026,
            "bin_end": 179.2700029,
            "count": 0
           },
           {
            "bin_start": 179.2700029,
            "bin_end": 179.7500032,
            "count": 2
           },
           {
            "bin_start": 179.7500032,
            "bin_end": 180.2300035,
            "count": 0
           },
           {
            "bin_start": 180.2300035,
            "bin_end": 180.7100038,
            "count": 0
           },
           {
            "bin_start": 180.7100038,
            "bin_end": 181.1900041,
            "count": 0
           },
           {
            "bin_start": 181.1900041,
            "bin_end": 181.6700044,
            "count": 0
           },
           {
            "bin_start": 181.6700044,
            "bin_end": 182.1500047,
            "count": 0
           },
           {
            "bin_start": 182.1500047,
            "bin_end": 182.630005,
            "count": 1
           }
          ]
         }
        },
        {
         "name": "High",
         "dtype": "float64",
         "stats": {
          "unique_count": 5,
          "nan_count": 0,
          "min": "179.229996",
          "max": "182.940002",
          "histogram": [
           {
            "bin_start": 179.229996,
            "bin_end": 179.6009966,
            "count": 1
           },
           {
            "bin_start": 179.6009966,
            "bin_end": 179.9719972,
            "count": 0
           },
           {
            "bin_start": 179.9719972,
            "bin_end": 180.3429978,
            "count": 0
           },
           {
            "bin_start": 180.3429978,
            "bin_end": 180.7139984,
            "count": 2
           },
           {
            "bin_start": 180.7139984,
            "bin_end": 181.08499899999998,
            "count": 0
           },
           {
            "bin_start": 181.08499899999998,
            "bin_end": 181.45599959999998,
            "count": 0
           },
           {
            "bin_start": 181.45599959999998,
            "bin_end": 181.8270002,
            "count": 0
           },
           {
            "bin_start": 181.8270002,
            "bin_end": 182.1980008,
            "count": 0
           },
           {
            "bin_start": 182.1980008,
            "bin_end": 182.5690014,
            "count": 0
           },
           {
            "bin_start": 182.5690014,
            "bin_end": 182.940002,
            "count": 2
           }
          ]
         }
        },
        {
         "name": "Low",
         "dtype": "float64",
         "stats": {
          "unique_count": 5,
          "nan_count": 0,
          "min": "177.259995",
          "max": "179.119995",
          "histogram": [
           {
            "bin_start": 177.259995,
            "bin_end": 177.445995,
            "count": 1
           },
           {
            "bin_start": 177.445995,
            "bin_end": 177.631995,
            "count": 0
           },
           {
            "bin_start": 177.631995,
            "bin_end": 177.817995,
            "count": 1
           },
           {
            "bin_start": 177.817995,
            "bin_end": 178.003995,
            "count": 0
           },
           {
            "bin_start": 178.003995,
            "bin_end": 178.189995,
            "count": 2
           },
           {
            "bin_start": 178.189995,
            "bin_end": 178.375995,
            "count": 0
           },
           {
            "bin_start": 178.375995,
            "bin_end": 178.561995,
            "count": 0
           },
           {
            "bin_start": 178.561995,
            "bin_end": 178.747995,
            "count": 0
           },
           {
            "bin_start": 178.747995,
            "bin_end": 178.93399499999998,
            "count": 0
           },
           {
            "bin_start": 178.93399499999998,
            "bin_end": 179.119995,
            "count": 1
           }
          ]
         }
        },
        {
         "name": "Close",
         "dtype": "float64",
         "stats": {
          "unique_count": 5,
          "nan_count": 0,
          "min": "177.570007",
          "max": "182.009995",
          "histogram": [
           {
            "bin_start": 177.570007,
            "bin_end": 178.0140058,
            "count": 1
           },
           {
            "bin_start": 178.0140058,
            "bin_end": 178.4580046,
            "count": 1
           },
           {
            "bin_start": 178.4580046,
            "bin_end": 178.9020034,
            "count": 0
           },
           {
            "bin_start": 178.9020034,
            "bin_end": 179.34600220000002,
            "count": 0
           },
           {
            "bin_start": 179.34600220000002,
            "bin_end": 179.79000100000002,
            "count": 2
           },
           {
            "bin_start": 179.79000100000002,
            "bin_end": 180.2339998,
            "count": 0
           },
           {
            "bin_start": 180.2339998,
            "bin_end": 180.6779986,
            "count": 0
           },
           {
            "bin_start": 180.6779986,
            "bin_end": 181.1219974,
            "count": 0
           },
           {
            "bin_start": 181.1219974,
            "bin_end": 181.5659962,
            "count": 0
           },
           {
            "bin_start": 181.5659962,
            "bin_end": 182.009995,
            "count": 1
           }
          ]
         }
        },
        {
         "name": "Adj Close",
         "dtype": "float64",
         "stats": {
          "unique_count": 5,
          "nan_count": 0,
          "min": "177.344055",
          "max": "181.778397",
          "histogram": [
           {
            "bin_start": 177.344055,
            "bin_end": 177.7874892,
            "count": 1
           },
           {
            "bin_start": 177.7874892,
            "bin_end": 178.2309234,
            "count": 1
           },
           {
            "bin_start": 178.2309234,
            "bin_end": 178.6743576,
            "count": 0
           },
           {
            "bin_start": 178.6743576,
            "bin_end": 179.1177918,
            "count": 0
           },
           {
            "bin_start": 179.1177918,
            "bin_end": 179.561226,
            "count": 2
           },
           {
            "bin_start": 179.561226,
            "bin_end": 180.00466020000002,
            "count": 0
           },
           {
            "bin_start": 180.00466020000002,
            "bin_end": 180.4480944,
            "count": 0
           },
           {
            "bin_start": 180.4480944,
            "bin_end": 180.89152860000002,
            "count": 0
           },
           {
            "bin_start": 180.89152860000002,
            "bin_end": 181.3349628,
            "count": 0
           },
           {
            "bin_start": 181.3349628,
            "bin_end": 181.778397,
            "count": 1
           }
          ]
         }
        },
        {
         "name": "Volume",
         "dtype": "int64",
         "stats": {
          "unique_count": 5,
          "nan_count": 0,
          "min": "59773000",
          "max": "104487900",
          "histogram": [
           {
            "bin_start": 59773000,
            "bin_end": 64244490,
            "count": 3
           },
           {
            "bin_start": 64244490,
            "bin_end": 68715980,
            "count": 0
           },
           {
            "bin_start": 68715980,
            "bin_end": 73187470,
            "count": 0
           },
           {
            "bin_start": 73187470,
            "bin_end": 77658960,
            "count": 0
           },
           {
            "bin_start": 77658960,
            "bin_end": 82130450,
            "count": 0
           },
           {
            "bin_start": 82130450,
            "bin_end": 86601940,
            "count": 0
           },
           {
            "bin_start": 86601940,
            "bin_end": 91073430,
            "count": 0
           },
           {
            "bin_start": 91073430,
            "bin_end": 95544920,
            "count": 0
           },
           {
            "bin_start": 95544920,
            "bin_end": 100016410,
            "count": 1
           },
           {
            "bin_start": 100016410,
            "bin_end": 104487900,
            "count": 1
           }
          ]
         }
        },
        {
         "name": "_deepnote_index_column",
         "dtype": "int64"
        }
       ],
       "rows": [
        {
         "Date": "2021-12-29",
         "Open": "179.330002",
         "High": "180.630005",
         "Low": "178.139999",
         "Close": "179.380005",
         "Adj Close": "179.151749",
         "Volume": "62348900",
         "_deepnote_index_column": "10349"
        },
        {
         "Date": "2021-12-30",
         "Open": "179.470001",
         "High": "180.570007",
         "Low": "178.089996",
         "Close": "178.199997",
         "Adj Close": "177.973251",
         "Volume": "59773000",
         "_deepnote_index_column": "10350"
        },
        {
         "Date": "2021-12-31",
         "Open": "178.089996",
         "High": "179.229996",
         "Low": "177.259995",
         "Close": "177.570007",
         "Adj Close": "177.344055",
         "Volume": "64062300",
         "_deepnote_index_column": "10351"
        },
        {
         "Date": "2022-01-03",
         "Open": "177.830002",
         "High": "182.880005",
         "Low": "177.710007",
         "Close": "182.009995",
         "Adj Close": "181.778397",
         "Volume": "104487900",
         "_deepnote_index_column": "10352"
        },
        {
         "Date": "2022-01-04",
         "Open": "182.630005",
         "High": "182.940002",
         "Low": "179.119995",
         "Close": "179.699997",
         "Adj Close": "179.471344",
         "Volume": "99310400",
         "_deepnote_index_column": "10353"
        }
       ]
      },
      "text/plain": "             Date        Open        High         Low       Close   Adj Close  \\\n10349  2021-12-29  179.330002  180.630005  178.139999  179.380005  179.151749   \n10350  2021-12-30  179.470001  180.570007  178.089996  178.199997  177.973251   \n10351  2021-12-31  178.089996  179.229996  177.259995  177.570007  177.344055   \n10352  2022-01-03  177.830002  182.880005  177.710007  182.009995  181.778397   \n10353  2022-01-04  182.630005  182.940002  179.119995  179.699997  179.471344   \n\n          Volume  \n10349   62348900  \n10350   59773000  \n10351   64062300  \n10352  104487900  \n10353   99310400  ",
      "text/html": "<div>\n<style scoped>\n    .dataframe tbody tr th:only-of-type {\n        vertical-align: middle;\n    }\n\n    .dataframe tbody tr th {\n        vertical-align: top;\n    }\n\n    .dataframe thead th {\n        text-align: right;\n    }\n</style>\n<table border=\"1\" class=\"dataframe\">\n  <thead>\n    <tr style=\"text-align: right;\">\n      <th></th>\n      <th>Date</th>\n      <th>Open</th>\n      <th>High</th>\n      <th>Low</th>\n      <th>Close</th>\n      <th>Adj Close</th>\n      <th>Volume</th>\n    </tr>\n  </thead>\n  <tbody>\n    <tr>\n      <th>10349</th>\n      <td>2021-12-29</td>\n      <td>179.330002</td>\n      <td>180.630005</td>\n      <td>178.139999</td>\n      <td>179.380005</td>\n      <td>179.151749</td>\n      <td>62348900</td>\n    </tr>\n    <tr>\n      <th>10350</th>\n      <td>2021-12-30</td>\n      <td>179.470001</td>\n      <td>180.570007</td>\n      <td>178.089996</td>\n      <td>178.199997</td>\n      <td>177.973251</td>\n      <td>59773000</td>\n    </tr>\n    <tr>\n      <th>10351</th>\n      <td>2021-12-31</td>\n      <td>178.089996</td>\n      <td>179.229996</td>\n      <td>177.259995</td>\n      <td>177.570007</td>\n      <td>177.344055</td>\n      <td>64062300</td>\n    </tr>\n    <tr>\n      <th>10352</th>\n      <td>2022-01-03</td>\n      <td>177.830002</td>\n      <td>182.880005</td>\n      <td>177.710007</td>\n      <td>182.009995</td>\n      <td>181.778397</td>\n      <td>104487900</td>\n    </tr>\n    <tr>\n      <th>10353</th>\n      <td>2022-01-04</td>\n      <td>182.630005</td>\n      <td>182.940002</td>\n      <td>179.119995</td>\n      <td>179.699997</td>\n      <td>179.471344</td>\n      <td>99310400</td>\n    </tr>\n  </tbody>\n</table>\n</div>"
     },
     "metadata": {}
    }
   ],
   "execution_count": 17
  },
  {
   "cell_type": "code",
   "source": "stock_2_months[\"Date\"] = pd.to_datetime(stock_2_months[\"Date\"])",
   "metadata": {
    "cell_id": "25927d81c3964fb89d98cb6a04104d61",
    "tags": [],
    "deepnote_to_be_reexecuted": false,
    "source_hash": "d8cffe5f",
    "execution_start": 1662688834369,
    "execution_millis": 3,
    "deepnote_cell_type": "code",
    "deepnote_cell_height": 76
   },
   "outputs": [],
   "execution_count": 25
  },
  {
   "cell_type": "code",
   "source": "plt.plot(stock_2_months.Date,stock_2_months.Close)\n# plt.gcf().autofmt_xdate()\nplt.xticks(rotation=45)\n\nplt.xlabel(\"Date\")\nplt.ylabel(\"Stock Price\")\nplt.show()",
   "metadata": {
    "cell_id": "df71030147b5432daf66ba98b0031a75",
    "tags": [],
    "deepnote_to_be_reexecuted": false,
    "source_hash": "d6f585fc",
    "execution_start": 1662688876455,
    "execution_millis": 1086,
    "deepnote_cell_type": "code",
    "deepnote_cell_height": 501,
    "deepnote_output_heights": [
     301
    ]
   },
   "outputs": [
    {
     "data": {
      "text/plain": "<Figure size 432x288 with 1 Axes>",
      "image/png": "[encoded data removed]"
     },
     "metadata": {
      "needs_background": "light",
      "image/png": {
       "width": 389,
       "height": 300
      }
     },
     "output_type": "display_data"
    }
   ],
   "execution_count": 28
  },
  {
   "cell_type": "markdown",
   "source": "Q4",
   "metadata": {
    "is_collapsed": false,
    "cell_id": "c8747846ff2d4265a9c689d607783f06",
    "tags": [],
    "formattedRanges": [],
    "deepnote_cell_type": "text-cell-p"
   }
  },
  {
   "cell_type": "markdown",
   "source": "",
   "metadata": {
    "is_collapsed": false,
    "cell_id": "8bb8065f-80fc-4714-8943-cebcfa94de8a",
    "tags": [],
    "formattedRanges": [],
    "deepnote_cell_type": "text-cell-p"
   }
  },
  {
   "cell_type": "markdown",
   "source": "- Supervised learning:",
   "metadata": {
    "is_collapsed": false,
    "cell_id": "ba76a63e-7daf-4e15-b0a7-9c5f17a9dc05",
    "tags": [],
    "formattedRanges": [],
    "deepnote_cell_type": "text-cell-bullet"
   }
  },
  {
   "cell_type": "markdown",
   "source": "This can be used in cases where we know the target or the value which we need to predict and with earlier data we can predict the future target and can be used effectively",
   "metadata": {
    "is_collapsed": false,
    "cell_id": "798d0834-833d-4c98-8ca3-8ccec06e9bcf",
    "tags": [],
    "formattedRanges": [],
    "deepnote_cell_type": "text-cell-p"
   }
  },
  {
   "cell_type": "markdown",
   "source": "This method can be used in cases where we need to predict the business expenses for the next quarter.",
   "metadata": {
    "is_collapsed": false,
    "cell_id": "5018a4e5-c17b-4e94-94f8-33c6ac205863",
    "tags": [],
    "formattedRanges": [],
    "deepnote_cell_type": "text-cell-p"
   }
  },
  {
   "cell_type": "markdown",
   "source": "To predict the profit index for the upcoming years.",
   "metadata": {
    "is_collapsed": false,
    "cell_id": "c5c74ca18ffd44e498d6e3b24ae69bba",
    "tags": [],
    "formattedRanges": [],
    "deepnote_cell_type": "text-cell-p"
   }
  },
  {
   "cell_type": "markdown",
   "source": "- Unsupervised learning:",
   "metadata": {
    "is_collapsed": false,
    "cell_id": "05582c3c-3574-4698-9d45-0125fbc2d59a",
    "tags": [],
    "formattedRanges": [],
    "deepnote_cell_type": "text-cell-bullet"
   }
  },
  {
   "cell_type": "markdown",
   "source": "This is a learning method where the target is unknown we are not sure which is the target which we are predicting.",
   "metadata": {
    "is_collapsed": false,
    "cell_id": "621dd913-deb2-407c-a80a-27f374d910ff",
    "tags": [],
    "formattedRanges": [],
    "deepnote_cell_type": "text-cell-p"
   }
  },
  {
   "cell_type": "markdown",
   "source": "This learning works on unlabeled data, can be used in business to classify the expenses and the type of reviews according to the comments from co workers or from general audience. ",
   "metadata": {
    "is_collapsed": false,
    "cell_id": "57d70a9c-df4b-4976-a32d-4b7ce5ec2558",
    "tags": [],
    "formattedRanges": [],
    "deepnote_cell_type": "text-cell-p"
   }
  },
  {
   "cell_type": "markdown",
   "source": "- Reinforcement learning",
   "metadata": {
    "is_collapsed": false,
    "cell_id": "7d7162d5-f08a-464b-a379-6f6a27a9f976",
    "tags": [],
    "formattedRanges": [],
    "deepnote_cell_type": "text-cell-bullet"
   }
  },
  {
   "cell_type": "markdown",
   "source": "Reinforcement learning is a type where the model learns from the environment and modifies its procedure to make decisions.",
   "metadata": {
    "is_collapsed": false,
    "cell_id": "ddb203d8-fb03-4238-8cbd-ad109afd8b34",
    "tags": [],
    "formattedRanges": [],
    "deepnote_cell_type": "text-cell-p"
   }
  },
  {
   "cell_type": "markdown",
   "source": "This method can be used in Business where based upon the profit index of the earlier quarter the model can suggest some new methods for the workflow or can learn the way phishing mails arrive at the mailbox and strengthen the security of the organization.",
   "metadata": {
    "is_collapsed": false,
    "cell_id": "0137e8d2-b2dd-4c25-b99d-aadfa80e111e",
    "tags": [],
    "formattedRanges": [],
    "deepnote_cell_type": "text-cell-p"
   }
  },
  {
   "cell_type": "markdown",
   "source": "",
   "metadata": {
    "is_collapsed": false,
    "cell_id": "b6c7abba-8041-4168-a411-2f96b2a249c0",
    "tags": [],
    "formattedRanges": [],
    "deepnote_cell_type": "text-cell-p"
   }
  },
  {
   "cell_type": "markdown",
   "source": "<a style='text-decoration:none;line-height:16px;display:flex;color:#5B5B62;padding:10px;justify-content:end;' href='https://deepnote.com?utm_source=created-in-deepnote-cell&projectId=23f36c42-e2db-442e-abc1-3579098c1db8' target=\"_blank\">\n<img alt='Created in deepnote.com' style='display:inline;max-height:16px;margin:0px;margin-right:7.5px;' src='data:image/svg+xml;base64,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' > </img>\nCreated in <span style='font-weight:600;margin-left:4px;'>Deepnote</span></a>",
   "metadata": {
    "tags": [],
    "created_in_deepnote_cell": true,
    "deepnote_cell_type": "markdown"
   }
  }
 ],
 "nbformat": 4,
 "nbformat_minor": 2,
 "metadata": {
  "orig_nbformat": 2,
  "deepnote": {},
  "deepnote_notebook_id": "d11d5a01-7cc3-48df-9f85-7a746d9436de",
  "deepnote_execution_queue": [],
  "deepnote_persisted_session": {
   "createdAt": "2022-09-09T00:45:41.848Z"
  }
 }
}